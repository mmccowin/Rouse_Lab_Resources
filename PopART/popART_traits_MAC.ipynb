{
 "cells": [
  {
   "cell_type": "markdown",
   "metadata": {},
   "source": [
    "## Mac - Convert your spreadsheet to a popART traits block: "
   ]
  },
  {
   "cell_type": "markdown",
   "metadata": {},
   "source": [
    "Convert your spreadhseet to a popARt traits block. No coding of traits with 1's and 0's necessary--this does it all for you!\n",
    "\n",
    "### User Input Required: \n",
    "- **Lines 2 and 4** (.csv input file name and traits name)\n",
    "- Optional: lines 5 and 12 (special \"use_name\" option and \"auto-concat\" file concatention with your .nex alignment)\n",
    "    - If using optional lines, remember to toggle cell to \"Code\" option in top menu\n",
    "\n",
    "\n",
    "**Note: 2 files will be created**\n",
    "- **pART_traits.txt** is the popART traits file containing everything you need for the popART traits block and matrix (this is the one you want to save, and the one that will be appended to the nexus file you specify).\n",
    "- **pART_matrix.txt** is just the traits matrix. It is a useful file to check if anything does not look as expected in the pART_traits file.\n",
    "\n",
    "*Prerequisites - In order to run this file you must have the following programs and packages installed:*\n",
    "- *Python*\n",
    "- *Jupyter Notebooks*\n",
    "- *Pandas* (use `conda install pandas`)\n",
    "- *Numpy* (use `conda install numpy`)"
   ]
  },
  {
   "cell_type": "markdown",
   "metadata": {},
   "source": [
    "**Run this cell:**"
   ]
  },
  {
   "cell_type": "code",
   "execution_count": 1,
   "metadata": {},
   "outputs": [],
   "source": [
    "import pandas as pd\n",
    "import numpy as np"
   ]
  },
  {
   "cell_type": "markdown",
   "metadata": {},
   "source": [
    "### Input your file name:\n",
    "\n",
    "`df = pd.read_csv('YOUR_FILE_NAME_HERE.csv')`\n",
    "\n",
    "- File requirements: .csv, all column headers lowercase, has a \"name\" column\n",
    "\n",
    "- If your file does not have all lowercase column headers, see below:"
   ]
  },
  {
   "cell_type": "code",
   "execution_count": 2,
   "metadata": {},
   "outputs": [
    {
     "data": {
      "text/html": [
       "<div>\n",
       "<style scoped>\n",
       "    .dataframe tbody tr th:only-of-type {\n",
       "        vertical-align: middle;\n",
       "    }\n",
       "\n",
       "    .dataframe tbody tr th {\n",
       "        vertical-align: top;\n",
       "    }\n",
       "\n",
       "    .dataframe thead th {\n",
       "        text-align: right;\n",
       "    }\n",
       "</style>\n",
       "<table border=\"1\" class=\"dataframe\">\n",
       "  <thead>\n",
       "    <tr style=\"text-align: right;\">\n",
       "      <th></th>\n",
       "      <th>Sample_name</th>\n",
       "      <th>BIC_Accession</th>\n",
       "      <th>Genus</th>\n",
       "      <th>Species</th>\n",
       "      <th>Locality</th>\n",
       "      <th>Latitude</th>\n",
       "      <th>Longitude</th>\n",
       "    </tr>\n",
       "  </thead>\n",
       "  <tbody>\n",
       "    <tr>\n",
       "      <th>0</th>\n",
       "      <td>PB4088</td>\n",
       "      <td>A7969</td>\n",
       "      <td>Thermiphione</td>\n",
       "      <td>rapanui</td>\n",
       "      <td>Southern</td>\n",
       "      <td>-37.80</td>\n",
       "      <td>-110.92</td>\n",
       "    </tr>\n",
       "    <tr>\n",
       "      <th>1</th>\n",
       "      <td>PBS4088</td>\n",
       "      <td>A7970</td>\n",
       "      <td>Thermiphione</td>\n",
       "      <td>rapanui</td>\n",
       "      <td>Southern</td>\n",
       "      <td>-37.80</td>\n",
       "      <td>-110.92</td>\n",
       "    </tr>\n",
       "    <tr>\n",
       "      <th>2</th>\n",
       "      <td>PB4096A</td>\n",
       "      <td>A7971</td>\n",
       "      <td>Thermiphione</td>\n",
       "      <td>rapanui</td>\n",
       "      <td>Easter_Island</td>\n",
       "      <td>-23.55</td>\n",
       "      <td>-115.57</td>\n",
       "    </tr>\n",
       "    <tr>\n",
       "      <th>3</th>\n",
       "      <td>PB4096C</td>\n",
       "      <td>A7972</td>\n",
       "      <td>Thermiphione</td>\n",
       "      <td>rapanui</td>\n",
       "      <td>Easter_Island</td>\n",
       "      <td>-23.55</td>\n",
       "      <td>-115.57</td>\n",
       "    </tr>\n",
       "  </tbody>\n",
       "</table>\n",
       "</div>"
      ],
      "text/plain": [
       "  Sample_name BIC_Accession         Genus  Species       Locality  Latitude  \\\n",
       "0      PB4088         A7969  Thermiphione  rapanui       Southern    -37.80   \n",
       "1     PBS4088         A7970  Thermiphione  rapanui       Southern    -37.80   \n",
       "2     PB4096A         A7971  Thermiphione  rapanui  Easter_Island    -23.55   \n",
       "3     PB4096C         A7972  Thermiphione  rapanui  Easter_Island    -23.55   \n",
       "\n",
       "   Longitude  \n",
       "0    -110.92  \n",
       "1    -110.92  \n",
       "2    -115.57  \n",
       "3    -115.57  "
      ]
     },
     "execution_count": 2,
     "metadata": {},
     "output_type": "execute_result"
    }
   ],
   "source": [
    "df = pd.read_csv('thermi_testC.csv')\n",
    "df"
   ]
  },
  {
   "cell_type": "code",
   "execution_count": 3,
   "metadata": {},
   "outputs": [],
   "source": [
    "# (Optional) if your file does not have all lowercase headers:\n",
    "\n",
    "df.columns = [x.lower() for x in df.columns]"
   ]
  },
  {
   "cell_type": "markdown",
   "metadata": {},
   "source": [
    "### Input your traits column name:\n",
    "This is the column that you want to code as your traits in you haplotype network (eg. locality, depth) \n",
    "\n",
    "`def get_traits():\n",
    "    df['traits'] = df['YOUR_TRAIT_NAME_HERE']\n",
    "get_traits()`"
   ]
  },
  {
   "cell_type": "code",
   "execution_count": 4,
   "metadata": {},
   "outputs": [
    {
     "data": {
      "text/html": [
       "<div>\n",
       "<style scoped>\n",
       "    .dataframe tbody tr th:only-of-type {\n",
       "        vertical-align: middle;\n",
       "    }\n",
       "\n",
       "    .dataframe tbody tr th {\n",
       "        vertical-align: top;\n",
       "    }\n",
       "\n",
       "    .dataframe thead th {\n",
       "        text-align: right;\n",
       "    }\n",
       "</style>\n",
       "<table border=\"1\" class=\"dataframe\">\n",
       "  <thead>\n",
       "    <tr style=\"text-align: right;\">\n",
       "      <th></th>\n",
       "      <th>sample_name</th>\n",
       "      <th>bic_accession</th>\n",
       "      <th>genus</th>\n",
       "      <th>species</th>\n",
       "      <th>locality</th>\n",
       "      <th>latitude</th>\n",
       "      <th>longitude</th>\n",
       "      <th>traits</th>\n",
       "    </tr>\n",
       "  </thead>\n",
       "  <tbody>\n",
       "    <tr>\n",
       "      <th>0</th>\n",
       "      <td>PB4088</td>\n",
       "      <td>A7969</td>\n",
       "      <td>Thermiphione</td>\n",
       "      <td>rapanui</td>\n",
       "      <td>Southern</td>\n",
       "      <td>-37.80</td>\n",
       "      <td>-110.92</td>\n",
       "      <td>Southern</td>\n",
       "    </tr>\n",
       "    <tr>\n",
       "      <th>1</th>\n",
       "      <td>PBS4088</td>\n",
       "      <td>A7970</td>\n",
       "      <td>Thermiphione</td>\n",
       "      <td>rapanui</td>\n",
       "      <td>Southern</td>\n",
       "      <td>-37.80</td>\n",
       "      <td>-110.92</td>\n",
       "      <td>Southern</td>\n",
       "    </tr>\n",
       "    <tr>\n",
       "      <th>2</th>\n",
       "      <td>PB4096A</td>\n",
       "      <td>A7971</td>\n",
       "      <td>Thermiphione</td>\n",
       "      <td>rapanui</td>\n",
       "      <td>Easter_Island</td>\n",
       "      <td>-23.55</td>\n",
       "      <td>-115.57</td>\n",
       "      <td>Easter_Island</td>\n",
       "    </tr>\n",
       "    <tr>\n",
       "      <th>3</th>\n",
       "      <td>PB4096C</td>\n",
       "      <td>A7972</td>\n",
       "      <td>Thermiphione</td>\n",
       "      <td>rapanui</td>\n",
       "      <td>Easter_Island</td>\n",
       "      <td>-23.55</td>\n",
       "      <td>-115.57</td>\n",
       "      <td>Easter_Island</td>\n",
       "    </tr>\n",
       "  </tbody>\n",
       "</table>\n",
       "</div>"
      ],
      "text/plain": [
       "  sample_name bic_accession         genus  species       locality  latitude  \\\n",
       "0      PB4088         A7969  Thermiphione  rapanui       Southern    -37.80   \n",
       "1     PBS4088         A7970  Thermiphione  rapanui       Southern    -37.80   \n",
       "2     PB4096A         A7971  Thermiphione  rapanui  Easter_Island    -23.55   \n",
       "3     PB4096C         A7972  Thermiphione  rapanui  Easter_Island    -23.55   \n",
       "\n",
       "   longitude         traits  \n",
       "0    -110.92       Southern  \n",
       "1    -110.92       Southern  \n",
       "2    -115.57  Easter_Island  \n",
       "3    -115.57  Easter_Island  "
      ]
     },
     "execution_count": 4,
     "metadata": {},
     "output_type": "execute_result"
    }
   ],
   "source": [
    "def get_traits():\n",
    "    df['traits'] = df['locality']\n",
    "get_traits()\n",
    "df"
   ]
  },
  {
   "cell_type": "markdown",
   "metadata": {},
   "source": [
    "### Use_name\n",
    "This is the name that will be used to create the popART matrix. You have two options, explained below:\n",
    "\n",
    "**Option 1:**\n",
    "\"\n",
    "`use_name()` function creates a new \"use_name\" column that concatenates the \"genus\", \"species\", and the \"sample_name\" columns, separated by underscores. This is the name that will be used for the popART matrix.\n",
    "- **Note**: Your columns can be in any order in the dataframe, but must be all lowercase like this (no spaces): genus, species, sample_name\n",
    "\n",
    "`def use_name():\n",
    "    df['Use_name'] = df[['Genus', 'Species', \n",
    "                             'Sample_Name']].apply(lambda x: '_'.join(x), axis=1)`\n",
    "\n",
    "**Option 2:**\n",
    "`use_orig()` function copies your \"Sample_name\" column into the \"Use_name\" column so that only the sample names will be used to create the matrix (use this option if Genus/species are not available)\n",
    "\n",
    "`def use_orig():\n",
    "    df['Use_name'] = df['Sample_name']`"
   ]
  },
  {
   "cell_type": "raw",
   "metadata": {},
   "source": [
    "# Option 1:\n",
    "def use_name():\n",
    "    df['use_name'] = df[['genus', 'species', \n",
    "                             'sample_name']].apply(lambda x: '_'.join(x), axis=1)\n",
    "use_name()\n",
    "#df"
   ]
  },
  {
   "cell_type": "code",
   "execution_count": 5,
   "metadata": {},
   "outputs": [],
   "source": [
    "# Option 2:\n",
    "def use_orig():\n",
    "    df['use_name'] = df['sample_name']\n",
    "use_orig()\n",
    "#df"
   ]
  },
  {
   "cell_type": "markdown",
   "metadata": {},
   "source": [
    "### Setup Finished! \n",
    "**If you want to set your output file now**, scroll down to the bottom and enter the file name.\n",
    "\n",
    "Otherwise, click \"restart and run all\" to run the rest of the code as is and get your finished popART traits file."
   ]
  },
  {
   "cell_type": "code",
   "execution_count": 6,
   "metadata": {},
   "outputs": [],
   "source": [
    "df2 = df[['use_name', 'traits']]\n",
    "# Creates dummy values (1 and 0) and concatenates them with the traits dataframe\n",
    "df2_matrix = pd.get_dummies(df2['traits']) # must keep this dataframe for use later\n",
    "df3 = pd.concat([df2, df2_matrix], axis=1)\n",
    "del df3['traits'] # This deletes the Traits column\n",
    "df3\n",
    "# Save as csv without headers\n",
    "df3.to_csv('p_matrix.csv', header=None,index=False)\n",
    "# Convert to txt KEEPING commas"
   ]
  },
  {
   "cell_type": "code",
   "execution_count": null,
   "metadata": {},
   "outputs": [],
   "source": [
    "# MACS: bash; save as a text file\n",
    "%mv p_matrix.csv p_matrix.txt"
   ]
  },
  {
   "cell_type": "code",
   "execution_count": 8,
   "metadata": {},
   "outputs": [],
   "source": [
    "#Textfile Editing\n",
    "\n",
    "# Replace the first comma with 2 spaces\n",
    "with open(\"p_matrix.txt\") as in_file, open(\"pART_matrix.txt\", \"w\") as out_file:\n",
    "    for line in in_file:\n",
    "        out_file.write(line.replace(',', '  ', 1))\n",
    "# Add ending format to file\n",
    "outfile = 'pART_matrix.txt'\n",
    "with open(outfile, 'a') as target:\n",
    "    target.write(\";\")\n",
    "    target.write(\"\\n\")\n",
    "    target.write(\"\\n\")\n",
    "    target.write(\"END;\")\n",
    "    target.write(\"\\n\")"
   ]
  },
  {
   "cell_type": "code",
   "execution_count": null,
   "metadata": {},
   "outputs": [],
   "source": [
    "# MACS: remove 'p_matrix.txt' because it is no longer needed\n",
    "%rm 'p_matrix.txt'"
   ]
  },
  {
   "cell_type": "code",
   "execution_count": 10,
   "metadata": {},
   "outputs": [],
   "source": [
    "# Make traitlabels from imported dataframe\n",
    "labels = list(df2_matrix.columns.values)\n",
    "labels # print output to confirm\n",
    "# Make NTRAITS from imported dataframe and convert to string\n",
    "ntraits = len(df2_matrix.columns)\n",
    "ntraits = str(ntraits) # convert to string format\n",
    "# Make traits file\n",
    "outfile = 'pART_traits.txt'\n",
    "with open(outfile, 'w') as target:\n",
    "    target.write(\"BEGIN TRAITS;\")\n",
    "    target.write(\"\\n\")\n",
    "    target.write(\"[This is the traits block specific to PopART. Check that NTRAITS matches the number of traits and they are in the same order as the matrix.]\")\n",
    "    target.write(\"\\n\")\n",
    "    target.write(\"\\tDimensions NTRAITS=\")\n",
    "    for item in ntraits:\n",
    "        target.write(\"%s;\" % item)\n",
    "    target.write(\"\\n\")\n",
    "    target.write(\"\\tFormat labels=yes missing=? separator=Comma;\")\n",
    "    target.write(\"\\n\")\n",
    "    target.write(\"\\tTraitlabels\")\n",
    "    for item in labels:\n",
    "      target.write(\" %s\" % item)\n",
    "    target.write(\";\")\n",
    "    target.write(\"\\n\")\n",
    "    target.write(\"\\tMatrix\")\n",
    "    target.write(\"\\n\")"
   ]
  },
  {
   "cell_type": "code",
   "execution_count": null,
   "metadata": {},
   "outputs": [],
   "source": [
    "# MACS only: append files to create final traits file\n",
    "%cat pART_matrix.txt >> pART_traits.txt"
   ]
  },
  {
   "cell_type": "markdown",
   "metadata": {},
   "source": [
    "### Optional Auto-Concat: ###\n",
    "We can now append this to our nexus file for use in popART. Type the name and path (if needed) of your nexus file here:\n",
    "\n",
    "`cat pART_traits.txt >> YOUR_FILENAME.nex`\n",
    "\n",
    "**OR** just copy-paste our pART_traits file to the desired nexus file if you don't want to type it in here."
   ]
  },
  {
   "cell_type": "raw",
   "metadata": {},
   "source": [
    "# MACS only:\n",
    "%cp thermi_testN.nex thermi_testN_pART.nex\n",
    "%cat pART_traits.txt >> thermi_testN_pART.nex"
   ]
  }
 ],
 "metadata": {
  "kernelspec": {
   "display_name": "Python 3",
   "language": "python",
   "name": "python3"
  },
  "language_info": {
   "codemirror_mode": {
    "name": "ipython",
    "version": 3
   },
   "file_extension": ".py",
   "mimetype": "text/x-python",
   "name": "python",
   "nbconvert_exporter": "python",
   "pygments_lexer": "ipython3",
   "version": "3.6.4"
  }
 },
 "nbformat": 4,
 "nbformat_minor": 2
}
